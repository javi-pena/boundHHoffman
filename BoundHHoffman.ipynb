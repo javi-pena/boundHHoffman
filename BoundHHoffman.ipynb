{
 "cells": [
  {
   "cell_type": "markdown",
   "id": "96aca83d",
   "metadata": {},
   "source": [
    "# Upper bound on the Hoffman constant for homogeneous inequality systems\n",
    "\n",
    "Suppose $A\\in \\mathbb{R}^{m\\times n}\\setminus \\{0\\}$ and $P:=\\{x:Ax\\le 0\\}$.\n",
    "\n",
    "This notebook illustrates the procedure described in the paper \"An easily computable upper bound on the Hoffman constant for homogeneous inequality systems\" to compute an upper bound on the following *homogeneous Hoffman constant:*\n",
    "\n",
    "$$\n",
    "H_0(A) := \\sup_{u\\in \\mathbb{R}^n \\setminus P} \\frac{\\text{dist}(u,P)}{\\text{dist}(Au, \\mathbb{R}^m_-)}.$$  \n"
   ]
  },
  {
   "cell_type": "code",
   "execution_count": 1,
   "id": "510342ff",
   "metadata": {},
   "outputs": [],
   "source": [
    "import cvxpy as cp\n",
    "import numpy as np\n",
    "from boundHHoffman import boundH0"
   ]
  },
  {
   "cell_type": "code",
   "execution_count": 2,
   "id": "46566db8",
   "metadata": {},
   "outputs": [],
   "source": [
    "def genmatrix(m,n):\n",
    "    # generate matrix with some non-trivial partition\n",
    "    B = np.random.randint(m-3)+2\n",
    "    s = np.random.randint(n-3)+2\n",
    "    A = np.zeros((m,n))\n",
    "    A[:B-1,:s] = np.random.randn(B-1,s)\n",
    "    A[B-1,:s]=-A[:B-1,:s].T@np.random.rand(B-1)\n",
    "    A[B:,:(n-1)] = np.random.randn(m-B,n-1)\n",
    "    A[B:,n-1] = -np.random.rand(m-B) - A[B:,s:(n-1)]@np.random.randn(n-s-1)\n",
    "    return A\n",
    "\n",
    "def genLPmatrix(m,n):\n",
    "    # generate instance based on LP duality\n",
    "    A = np.random.randn(m,n)\n",
    "    b = A@np.random.rand(n)-np.random.rand(m)\n",
    "    c = A.T@np.random.randn(m)+np.random.rand(n)\n",
    "    M = np.zeros((2*(m+n+1),m+n+1))\n",
    "    M[0,1:(m+1)] = -b\n",
    "    M[0,(m+1):] = c\n",
    "    M[1:(m+1),0] = b\n",
    "    M[m+1:m+n+1,0] = -c\n",
    "    M[1:m+1,(m+1):] = -A\n",
    "    M[m+1:m+n+1,1:(m+1)]=A.T\n",
    "    M[m+n+1:,:] = np.identity(m+n+1)\n",
    "    return M\n",
    "\n",
    "def closest(u,A):\n",
    "    # Find distance to and closest point to u in {Ax<=0}.  This is for reality check.\n",
    "    m,n = A.shape\n",
    "    y = cp.Variable(n)\n",
    "    prob = cp.Problem(cp.Minimize(cp.quad_form(u-y,np.identity(n))),[A@y <= 0])\n",
    "    prob.solve(solver = cp.GUROBI)\n",
    "    return np.linalg.norm(u-y.value), y.value"
   ]
  },
  {
   "cell_type": "markdown",
   "id": "5c2d79ab",
   "metadata": {},
   "source": [
    "Example using the above genmatrix function to generate an instance with non-trivial partition."
   ]
  },
  {
   "cell_type": "code",
   "execution_count": 3,
   "id": "5f2ac977",
   "metadata": {},
   "outputs": [
    {
     "name": "stdout",
     "output_type": "stream",
     "text": [
      "Academic license - for non-commercial use only - expires 2023-10-16\n",
      "Using license file /Users/javipena/gurobi.lic\n"
     ]
    },
    {
     "data": {
      "text/plain": [
       "1726.994709621617"
      ]
     },
     "execution_count": 3,
     "metadata": {},
     "output_type": "execute_result"
    }
   ],
   "source": [
    "m=30; n=40\n",
    "A = genmatrix(m,n)\n",
    "h = boundH0(A)\n",
    "h"
   ]
  },
  {
   "cell_type": "markdown",
   "id": "86c1f769",
   "metadata": {},
   "source": [
    "Reality check"
   ]
  },
  {
   "cell_type": "code",
   "execution_count": 4,
   "id": "2c5af961",
   "metadata": {},
   "outputs": [
    {
     "name": "stdout",
     "output_type": "stream",
     "text": [
      "The upper bound checks out: 0.4300218247964792  <=  1726.994709621617\n"
     ]
    }
   ],
   "source": [
    "u=np.random.randn(n)\n",
    "while max(A@u)<=0:\n",
    "    u=np.random.randn(n)        \n",
    "d,y = closest(u,A)\n",
    "if (np.linalg.norm(y-u)/max(A@u)<=h):\n",
    "    print('The upper bound checks out:',np.linalg.norm(y-u)/max(A@u),' <= ',h)\n",
    "else:\n",
    "    print('The upper bound does not check out',np.linalg.norm(y-u)/max(A@u),' > ',h)"
   ]
  },
  {
   "cell_type": "markdown",
   "id": "21098efd",
   "metadata": {},
   "source": [
    "Example using the above genLPmatrix function to generate an instance based on LP duality.  These are usually much more challenging."
   ]
  },
  {
   "cell_type": "code",
   "execution_count": 5,
   "id": "04efde23",
   "metadata": {},
   "outputs": [
    {
     "name": "stderr",
     "output_type": "stream",
     "text": [
      "/Users/javipena/opt/anaconda3/lib/python3.8/site-packages/cvxpy/problems/problem.py:1278: UserWarning: Solution may be inaccurate. Try another solver, adjusting the solver settings, or solve with verbose=True for more information.\n",
      "  warnings.warn(\n"
     ]
    },
    {
     "data": {
      "text/plain": [
       "7021472.237482714"
      ]
     },
     "execution_count": 5,
     "metadata": {},
     "output_type": "execute_result"
    }
   ],
   "source": [
    "A = genLPmatrix(40,40)\n",
    "h = boundH0(A)\n",
    "h"
   ]
  },
  {
   "cell_type": "code",
   "execution_count": 6,
   "id": "e119af34",
   "metadata": {},
   "outputs": [
    {
     "name": "stdout",
     "output_type": "stream",
     "text": [
      "The upper bound checks out: 0.3243943131604912  <=  7021472.237482714\n"
     ]
    }
   ],
   "source": [
    "m,n = A.shape\n",
    "u=np.random.randn(n)\n",
    "while max(A@u)<=0:\n",
    "    u=np.random.randn(n)        \n",
    "d,y = closest(u,A)\n",
    "if (d/max(A@u)<=h):\n",
    "    print('The upper bound checks out:',d/max(A@u),' <= ',h)\n",
    "else:\n",
    "    print('The upper bound does not check out',d/max(A@u),' > ',h)"
   ]
  },
  {
   "cell_type": "code",
   "execution_count": null,
   "id": "a3744837",
   "metadata": {},
   "outputs": [],
   "source": []
  }
 ],
 "metadata": {
  "kernelspec": {
   "display_name": "Python 3",
   "language": "python",
   "name": "python3"
  },
  "language_info": {
   "codemirror_mode": {
    "name": "ipython",
    "version": 3
   },
   "file_extension": ".py",
   "mimetype": "text/x-python",
   "name": "python",
   "nbconvert_exporter": "python",
   "pygments_lexer": "ipython3",
   "version": "3.8.8"
  }
 },
 "nbformat": 4,
 "nbformat_minor": 5
}
